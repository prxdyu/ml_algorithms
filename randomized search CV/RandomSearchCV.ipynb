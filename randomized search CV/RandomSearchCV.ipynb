{
 "cells": [
  {
   "cell_type": "code",
   "execution_count": 182,
   "id": "fdea8f3d",
   "metadata": {},
   "outputs": [],
   "source": [
    "# importing the necessary libraries\n",
    "from sklearn.datasets import make_classification\n",
    "from sklearn.model_selection import train_test_split\n",
    "from sklearn.preprocessing import StandardScaler\n",
    "import numpy\n",
    "import numpy as np\n",
    "from sklearn.metrics.pairwise import euclidean_distances\n",
    "from itertools import product\n",
    "import random\n",
    "from sklearn.neighbors import KNeighborsClassifier\n",
    "from sklearn.metrics import accuracy_score"
   ]
  },
  {
   "cell_type": "code",
   "execution_count": 183,
   "id": "e86f3a81",
   "metadata": {},
   "outputs": [],
   "source": [
    "# creating a artificial dataset\n",
    "x,y=make_classification(n_samples=10000,n_features=2,n_informative=2,n_redundant=0,n_clusters_per_class=1,random_state=68)\n",
    "\n",
    "# splitting of train and test data\n",
    "x_train,x_test,y_train,y_test=train_test_split(x,y,stratify=y,random_state=42)"
   ]
  },
  {
   "cell_type": "code",
   "execution_count": 184,
   "id": "c765e82b",
   "metadata": {},
   "outputs": [],
   "source": [
    "# custom defined function to split datasets\n",
    "\n",
    "def split_fold(x_train,y_train,n_folds):\n",
    "    fold_size=int(np.floor(x_train.shape[0]/n_folds))\n",
    "    indexes=list(range(0,x_train.shape[0]))\n",
    "    fold_indices=random.sample(list(range(0,x_train.shape[0])),fold_size)\n",
    "    return fold_indices"
   ]
  },
  {
   "cell_type": "code",
   "execution_count": 191,
   "id": "1e0ede8b",
   "metadata": {},
   "outputs": [],
   "source": [
    "# custom defined implementation of RandomSearchCV\n",
    "def MyRandomizedSearchCV(param,classifier,n_iter,x_train,y_train,fold):\n",
    "    # this list has n_iter number of picks\n",
    "    lst=[]\n",
    "    accuracies=[]\n",
    "    models=[]\n",
    "    \n",
    "    # getting the values of the param dictionary\n",
    "    param_vals=list(param.values())\n",
    "    \n",
    "    # getting the keys of the param dictionary\n",
    "    param_keys=list(param.keys())\n",
    "    \n",
    "    # picking the random hyperparamteres for n_iter number of times\n",
    "    for i in range(n_iter):\n",
    "        x_folds=[]\n",
    "        y_folds=[]\n",
    "        dic={}\n",
    "        \n",
    "        # iterating through each hyperparameter and picking a random value\n",
    "        for j in param_keys:\n",
    "            dic[j]=random.choice(param[j])\n",
    "            \n",
    "        # appending the set of randomly picked hyper parameters in the list\n",
    "        lst.append(dic)\n",
    "\n",
    "        \n",
    "        # splitting the datainto folds\n",
    "        for k in range(fold):\n",
    "            indices=split_fold(x_train,y_train,fold)\n",
    "            x_folds.append(x_train[indices])\n",
    "            y_folds.append(y_train[indices])\n",
    "            \n",
    "            \n",
    "        \n",
    "        # bulding our mode using the randomly picked set of hyper parameters \n",
    "        acc=[]\n",
    "        for h in range(fold):\n",
    "            \n",
    "            # finding the test fold for x\n",
    "            x_test_fold=x_folds[h]\n",
    "                \n",
    "            # removing the test fold for x\n",
    "            x_train_folds=x_folds[:h]+x_folds[h+1:]\n",
    "            x_train_folds_tuple=tuple(x_train_folds)\n",
    "            x_train_folds_combined=np.vstack(x_train_folds_tuple)\n",
    "            \n",
    "            # finding the test fold for y\n",
    "            y_test_fold=y_folds[h]\n",
    "    \n",
    "            # removing test fold for y\n",
    "            y_train_folds=y_folds[:h]+y_folds[h+1:]\n",
    "            y_train_folds_tuple=tuple(y_train_folds)\n",
    "            y_train_folds_combined=np.hstack(y_train_folds_tuple).reshape(-1,1)\n",
    "            \n",
    "            # defining the train data\n",
    "            for h in list(dic.keys()):\n",
    "                classifier.h=dic[h]\n",
    "                \n",
    "            # appending this classifier to the list\n",
    "            models.append(classifier)\n",
    "            \n",
    "            # fitting the classifier\n",
    "            classifier.fit(x_train_folds_combined,y_train_folds_combined.ravel())\n",
    "            \n",
    "            # prediction on test data\n",
    "            y_test_pred=classifier.predict(x_test_fold)\n",
    "            kfold_accuracy=accuracy_score(y_test_fold,y_test_pred)\n",
    "            \n",
    "            # appending this score on to the acc list\n",
    "            acc.append(kfold_accuracy)\n",
    "            \n",
    "        accuracies.append(np.array(acc).mean())\n",
    "  \n",
    "    # finding the best classifier with maximum accuracy\n",
    "    idx_best=np.argmax(accuracies)\n",
    "    \n",
    "    # returning the best classifier\n",
    "    return models[idx_best]"
   ]
  },
  {
   "cell_type": "code",
   "execution_count": 192,
   "id": "9d5d165e",
   "metadata": {},
   "outputs": [],
   "source": [
    "# calling our custom defined Randomized Search CV\n",
    "param={'n_neighbors':[5,6,7],\n",
    "     'leaf_size':[30,40,50]}\n",
    "knn=KNeighborsClassifier()\n",
    "best=MyRandomSearch(param,knn,2,x_train,y_train,5)"
   ]
  },
  {
   "cell_type": "markdown",
   "id": "95dc7f27",
   "metadata": {},
   "source": [
    "### MyRandomSearch(param,estimator,n_iter,x,y,fold)"
   ]
  },
  {
   "cell_type": "markdown",
   "id": "ad31edd3",
   "metadata": {},
   "source": [
    "##### param:\n",
    "- A dictionary with keys as hyperparamter names and value as list\n",
    "##### estimator\n",
    "- Estimator that you want to use\n",
    "##### n_iter\n",
    "- no of times to randomly pick a set of hyperparameters\n",
    "##### x\n",
    "- array of input features\n",
    "##### y\n",
    "- array of target features\n",
    "\n",
    "##### fold\n",
    "- no of folds to perform KFold cross validation"
   ]
  },
  {
   "cell_type": "code",
   "execution_count": null,
   "id": "74a05474",
   "metadata": {},
   "outputs": [],
   "source": []
  }
 ],
 "metadata": {
  "kernelspec": {
   "display_name": "Python 3 (ipykernel)",
   "language": "python",
   "name": "python3"
  },
  "language_info": {
   "codemirror_mode": {
    "name": "ipython",
    "version": 3
   },
   "file_extension": ".py",
   "mimetype": "text/x-python",
   "name": "python",
   "nbconvert_exporter": "python",
   "pygments_lexer": "ipython3",
   "version": "3.11.2"
  }
 },
 "nbformat": 4,
 "nbformat_minor": 5
}
